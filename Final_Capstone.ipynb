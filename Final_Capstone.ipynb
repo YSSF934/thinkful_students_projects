{
  "nbformat": 4,
  "nbformat_minor": 0,
  "metadata": {
    "colab": {
      "provenance": [],
      "collapsed_sections": [],
      "include_colab_link": true
    },
    "kernelspec": {
      "name": "python3",
      "display_name": "Python 3"
    },
    "language_info": {
      "name": "python"
    }
  },
  "cells": [
    {
      "cell_type": "markdown",
      "metadata": {
        "id": "view-in-github",
        "colab_type": "text"
      },
      "source": [
        "<a href=\"https://colab.research.google.com/github/YSSF934/thinkful_students_projects/blob/main/Final_Capstone.ipynb\" target=\"_parent\"><img src=\"https://colab.research.google.com/assets/colab-badge.svg\" alt=\"Open In Colab\"/></a>"
      ]
    },
    {
      "cell_type": "markdown",
      "source": [
        "##**Thinkful Final Capstone**\n",
        "\n",
        "###**Cannabis Data Analysis**\n",
        "\n",
        "The purpose of this Notebook is to analyze data within a csv containing records of cannabis strains sourced from Kaggle.\n",
        "\n",
        "Only the \"rating\", strain\", and \"type fields from the dataset will be used:\n",
        "\n",
        "- Rating is defined as a score between 1 and 5 with decimal precision.\n",
        "\n",
        "- Strain is defined as the name of the cannabis.\n",
        "\n",
        "- Type is defined as the type of strain which can be either \"Hybrid\", \"Sativa\", or \"Indica\".\n",
        "\n",
        "This project will focus on testing hypotheses surrounding the rating of strains based on their types. The hypotheses are as follows:\n",
        "\n",
        "###**Hypothesis #1**\n",
        "\n",
        "**Null:** There is no correlation between the types of strains and their ratings. This means the ratings of types are not distributed similarly.\n",
        "\n",
        "**Alternative:** There is a correlation between the types of strains and their ratings. This means the ratings of types are distributed similarly.\n",
        "\n",
        "###**Hypothesis #2**\n",
        "\n",
        "**Null:** There is no statistically significant difference between ratings depending on the type of the strain.\n",
        "\n",
        "**Alernative:** There is a statistically significant difference between ratings depending on the type of the strain.\n",
        "\n"
      ],
      "metadata": {
        "id": "2IY5s8Y-9xbd"
      }
    },
    {
      "cell_type": "code",
      "execution_count": 1,
      "metadata": {
        "colab": {
          "base_uri": "https://localhost:8080/"
        },
        "id": "NJsIX7QmAKaS",
        "outputId": "e77710ec-b2c5-45c7-e87f-fa1c631e3d91"
      },
      "outputs": [
        {
          "output_type": "stream",
          "name": "stdout",
          "text": [
            "Mounted at /content/gdrive\n"
          ]
        }
      ],
      "source": [
        "# Execute all imports, set warning filter, and mount gdrive to connect data\n",
        "import pandas as pd\n",
        "import matplotlib.pyplot as plt\n",
        "import seaborn as sns\n",
        "import math\n",
        "from scipy.stats.stats import ttest_ind\n",
        "from scipy import stats\n",
        "sns.set()\n",
        "from google.colab import drive\n",
        "drive.mount('/content/gdrive')\n",
        "import warnings\n",
        "\n",
        "warnings.filterwarnings('ignore')"
      ]
    },
    {
      "cell_type": "markdown",
      "source": [
        "After we have made a successful connection to the data we will contain the dataframe within a variable named \"df\" and explore the columns it has."
      ],
      "metadata": {
        "id": "AtNN4mNtTxia"
      }
    },
    {
      "cell_type": "code",
      "source": [
        "# Contain dataframe within \"df\" variable using pandas to contain path within \n",
        "# .read_csv function\n",
        "# View columns\n",
        "df = pd.read_csv('/content/gdrive/MyDrive/Colab Datasets/cannabis.csv')\n",
        "df.columns"
      ],
      "metadata": {
        "colab": {
          "base_uri": "https://localhost:8080/",
          "height": 363
        },
        "id": "xQwPH2-sBopB",
        "outputId": "cfd63332-80e9-4f41-c9e4-e84453edb965"
      },
      "execution_count": 2,
      "outputs": [
        {
          "output_type": "error",
          "ename": "FileNotFoundError",
          "evalue": "ignored",
          "traceback": [
            "\u001b[0;31m---------------------------------------------------------------------------\u001b[0m",
            "\u001b[0;31mFileNotFoundError\u001b[0m                         Traceback (most recent call last)",
            "\u001b[0;32m<ipython-input-2-af1a28beca48>\u001b[0m in \u001b[0;36m<module>\u001b[0;34m\u001b[0m\n\u001b[1;32m      2\u001b[0m \u001b[0;31m# .read_csv function\u001b[0m\u001b[0;34m\u001b[0m\u001b[0;34m\u001b[0m\u001b[0;34m\u001b[0m\u001b[0m\n\u001b[1;32m      3\u001b[0m \u001b[0;31m# View columns\u001b[0m\u001b[0;34m\u001b[0m\u001b[0;34m\u001b[0m\u001b[0;34m\u001b[0m\u001b[0m\n\u001b[0;32m----> 4\u001b[0;31m \u001b[0mdf\u001b[0m \u001b[0;34m=\u001b[0m \u001b[0mpd\u001b[0m\u001b[0;34m.\u001b[0m\u001b[0mread_csv\u001b[0m\u001b[0;34m(\u001b[0m\u001b[0;34m'/content/gdrive/MyDrive/Colab Datasets/cannabis.csv'\u001b[0m\u001b[0;34m)\u001b[0m\u001b[0;34m\u001b[0m\u001b[0;34m\u001b[0m\u001b[0m\n\u001b[0m\u001b[1;32m      5\u001b[0m \u001b[0mdf\u001b[0m\u001b[0;34m.\u001b[0m\u001b[0mcolumns\u001b[0m\u001b[0;34m\u001b[0m\u001b[0;34m\u001b[0m\u001b[0m\n",
            "\u001b[0;32m/usr/local/lib/python3.7/dist-packages/pandas/util/_decorators.py\u001b[0m in \u001b[0;36mwrapper\u001b[0;34m(*args, **kwargs)\u001b[0m\n\u001b[1;32m    309\u001b[0m                     \u001b[0mstacklevel\u001b[0m\u001b[0;34m=\u001b[0m\u001b[0mstacklevel\u001b[0m\u001b[0;34m,\u001b[0m\u001b[0;34m\u001b[0m\u001b[0;34m\u001b[0m\u001b[0m\n\u001b[1;32m    310\u001b[0m                 )\n\u001b[0;32m--> 311\u001b[0;31m             \u001b[0;32mreturn\u001b[0m \u001b[0mfunc\u001b[0m\u001b[0;34m(\u001b[0m\u001b[0;34m*\u001b[0m\u001b[0margs\u001b[0m\u001b[0;34m,\u001b[0m \u001b[0;34m**\u001b[0m\u001b[0mkwargs\u001b[0m\u001b[0;34m)\u001b[0m\u001b[0;34m\u001b[0m\u001b[0;34m\u001b[0m\u001b[0m\n\u001b[0m\u001b[1;32m    312\u001b[0m \u001b[0;34m\u001b[0m\u001b[0m\n\u001b[1;32m    313\u001b[0m         \u001b[0;32mreturn\u001b[0m \u001b[0mwrapper\u001b[0m\u001b[0;34m\u001b[0m\u001b[0;34m\u001b[0m\u001b[0m\n",
            "\u001b[0;32m/usr/local/lib/python3.7/dist-packages/pandas/io/parsers/readers.py\u001b[0m in \u001b[0;36mread_csv\u001b[0;34m(filepath_or_buffer, sep, delimiter, header, names, index_col, usecols, squeeze, prefix, mangle_dupe_cols, dtype, engine, converters, true_values, false_values, skipinitialspace, skiprows, skipfooter, nrows, na_values, keep_default_na, na_filter, verbose, skip_blank_lines, parse_dates, infer_datetime_format, keep_date_col, date_parser, dayfirst, cache_dates, iterator, chunksize, compression, thousands, decimal, lineterminator, quotechar, quoting, doublequote, escapechar, comment, encoding, encoding_errors, dialect, error_bad_lines, warn_bad_lines, on_bad_lines, delim_whitespace, low_memory, memory_map, float_precision, storage_options)\u001b[0m\n\u001b[1;32m    584\u001b[0m     \u001b[0mkwds\u001b[0m\u001b[0;34m.\u001b[0m\u001b[0mupdate\u001b[0m\u001b[0;34m(\u001b[0m\u001b[0mkwds_defaults\u001b[0m\u001b[0;34m)\u001b[0m\u001b[0;34m\u001b[0m\u001b[0;34m\u001b[0m\u001b[0m\n\u001b[1;32m    585\u001b[0m \u001b[0;34m\u001b[0m\u001b[0m\n\u001b[0;32m--> 586\u001b[0;31m     \u001b[0;32mreturn\u001b[0m \u001b[0m_read\u001b[0m\u001b[0;34m(\u001b[0m\u001b[0mfilepath_or_buffer\u001b[0m\u001b[0;34m,\u001b[0m \u001b[0mkwds\u001b[0m\u001b[0;34m)\u001b[0m\u001b[0;34m\u001b[0m\u001b[0;34m\u001b[0m\u001b[0m\n\u001b[0m\u001b[1;32m    587\u001b[0m \u001b[0;34m\u001b[0m\u001b[0m\n\u001b[1;32m    588\u001b[0m \u001b[0;34m\u001b[0m\u001b[0m\n",
            "\u001b[0;32m/usr/local/lib/python3.7/dist-packages/pandas/io/parsers/readers.py\u001b[0m in \u001b[0;36m_read\u001b[0;34m(filepath_or_buffer, kwds)\u001b[0m\n\u001b[1;32m    480\u001b[0m \u001b[0;34m\u001b[0m\u001b[0m\n\u001b[1;32m    481\u001b[0m     \u001b[0;31m# Create the parser.\u001b[0m\u001b[0;34m\u001b[0m\u001b[0;34m\u001b[0m\u001b[0;34m\u001b[0m\u001b[0m\n\u001b[0;32m--> 482\u001b[0;31m     \u001b[0mparser\u001b[0m \u001b[0;34m=\u001b[0m \u001b[0mTextFileReader\u001b[0m\u001b[0;34m(\u001b[0m\u001b[0mfilepath_or_buffer\u001b[0m\u001b[0;34m,\u001b[0m \u001b[0;34m**\u001b[0m\u001b[0mkwds\u001b[0m\u001b[0;34m)\u001b[0m\u001b[0;34m\u001b[0m\u001b[0;34m\u001b[0m\u001b[0m\n\u001b[0m\u001b[1;32m    483\u001b[0m \u001b[0;34m\u001b[0m\u001b[0m\n\u001b[1;32m    484\u001b[0m     \u001b[0;32mif\u001b[0m \u001b[0mchunksize\u001b[0m \u001b[0;32mor\u001b[0m \u001b[0miterator\u001b[0m\u001b[0;34m:\u001b[0m\u001b[0;34m\u001b[0m\u001b[0;34m\u001b[0m\u001b[0m\n",
            "\u001b[0;32m/usr/local/lib/python3.7/dist-packages/pandas/io/parsers/readers.py\u001b[0m in \u001b[0;36m__init__\u001b[0;34m(self, f, engine, **kwds)\u001b[0m\n\u001b[1;32m    809\u001b[0m             \u001b[0mself\u001b[0m\u001b[0;34m.\u001b[0m\u001b[0moptions\u001b[0m\u001b[0;34m[\u001b[0m\u001b[0;34m\"has_index_names\"\u001b[0m\u001b[0;34m]\u001b[0m \u001b[0;34m=\u001b[0m \u001b[0mkwds\u001b[0m\u001b[0;34m[\u001b[0m\u001b[0;34m\"has_index_names\"\u001b[0m\u001b[0;34m]\u001b[0m\u001b[0;34m\u001b[0m\u001b[0;34m\u001b[0m\u001b[0m\n\u001b[1;32m    810\u001b[0m \u001b[0;34m\u001b[0m\u001b[0m\n\u001b[0;32m--> 811\u001b[0;31m         \u001b[0mself\u001b[0m\u001b[0;34m.\u001b[0m\u001b[0m_engine\u001b[0m \u001b[0;34m=\u001b[0m \u001b[0mself\u001b[0m\u001b[0;34m.\u001b[0m\u001b[0m_make_engine\u001b[0m\u001b[0;34m(\u001b[0m\u001b[0mself\u001b[0m\u001b[0;34m.\u001b[0m\u001b[0mengine\u001b[0m\u001b[0;34m)\u001b[0m\u001b[0;34m\u001b[0m\u001b[0;34m\u001b[0m\u001b[0m\n\u001b[0m\u001b[1;32m    812\u001b[0m \u001b[0;34m\u001b[0m\u001b[0m\n\u001b[1;32m    813\u001b[0m     \u001b[0;32mdef\u001b[0m \u001b[0mclose\u001b[0m\u001b[0;34m(\u001b[0m\u001b[0mself\u001b[0m\u001b[0;34m)\u001b[0m\u001b[0;34m:\u001b[0m\u001b[0;34m\u001b[0m\u001b[0;34m\u001b[0m\u001b[0m\n",
            "\u001b[0;32m/usr/local/lib/python3.7/dist-packages/pandas/io/parsers/readers.py\u001b[0m in \u001b[0;36m_make_engine\u001b[0;34m(self, engine)\u001b[0m\n\u001b[1;32m   1038\u001b[0m             )\n\u001b[1;32m   1039\u001b[0m         \u001b[0;31m# error: Too many arguments for \"ParserBase\"\u001b[0m\u001b[0;34m\u001b[0m\u001b[0;34m\u001b[0m\u001b[0;34m\u001b[0m\u001b[0m\n\u001b[0;32m-> 1040\u001b[0;31m         \u001b[0;32mreturn\u001b[0m \u001b[0mmapping\u001b[0m\u001b[0;34m[\u001b[0m\u001b[0mengine\u001b[0m\u001b[0;34m]\u001b[0m\u001b[0;34m(\u001b[0m\u001b[0mself\u001b[0m\u001b[0;34m.\u001b[0m\u001b[0mf\u001b[0m\u001b[0;34m,\u001b[0m \u001b[0;34m**\u001b[0m\u001b[0mself\u001b[0m\u001b[0;34m.\u001b[0m\u001b[0moptions\u001b[0m\u001b[0;34m)\u001b[0m  \u001b[0;31m# type: ignore[call-arg]\u001b[0m\u001b[0;34m\u001b[0m\u001b[0;34m\u001b[0m\u001b[0m\n\u001b[0m\u001b[1;32m   1041\u001b[0m \u001b[0;34m\u001b[0m\u001b[0m\n\u001b[1;32m   1042\u001b[0m     \u001b[0;32mdef\u001b[0m \u001b[0m_failover_to_python\u001b[0m\u001b[0;34m(\u001b[0m\u001b[0mself\u001b[0m\u001b[0;34m)\u001b[0m\u001b[0;34m:\u001b[0m\u001b[0;34m\u001b[0m\u001b[0;34m\u001b[0m\u001b[0m\n",
            "\u001b[0;32m/usr/local/lib/python3.7/dist-packages/pandas/io/parsers/c_parser_wrapper.py\u001b[0m in \u001b[0;36m__init__\u001b[0;34m(self, src, **kwds)\u001b[0m\n\u001b[1;32m     49\u001b[0m \u001b[0;34m\u001b[0m\u001b[0m\n\u001b[1;32m     50\u001b[0m         \u001b[0;31m# open handles\u001b[0m\u001b[0;34m\u001b[0m\u001b[0;34m\u001b[0m\u001b[0;34m\u001b[0m\u001b[0m\n\u001b[0;32m---> 51\u001b[0;31m         \u001b[0mself\u001b[0m\u001b[0;34m.\u001b[0m\u001b[0m_open_handles\u001b[0m\u001b[0;34m(\u001b[0m\u001b[0msrc\u001b[0m\u001b[0;34m,\u001b[0m \u001b[0mkwds\u001b[0m\u001b[0;34m)\u001b[0m\u001b[0;34m\u001b[0m\u001b[0;34m\u001b[0m\u001b[0m\n\u001b[0m\u001b[1;32m     52\u001b[0m         \u001b[0;32massert\u001b[0m \u001b[0mself\u001b[0m\u001b[0;34m.\u001b[0m\u001b[0mhandles\u001b[0m \u001b[0;32mis\u001b[0m \u001b[0;32mnot\u001b[0m \u001b[0;32mNone\u001b[0m\u001b[0;34m\u001b[0m\u001b[0;34m\u001b[0m\u001b[0m\n\u001b[1;32m     53\u001b[0m \u001b[0;34m\u001b[0m\u001b[0m\n",
            "\u001b[0;32m/usr/local/lib/python3.7/dist-packages/pandas/io/parsers/base_parser.py\u001b[0m in \u001b[0;36m_open_handles\u001b[0;34m(self, src, kwds)\u001b[0m\n\u001b[1;32m    227\u001b[0m             \u001b[0mmemory_map\u001b[0m\u001b[0;34m=\u001b[0m\u001b[0mkwds\u001b[0m\u001b[0;34m.\u001b[0m\u001b[0mget\u001b[0m\u001b[0;34m(\u001b[0m\u001b[0;34m\"memory_map\"\u001b[0m\u001b[0;34m,\u001b[0m \u001b[0;32mFalse\u001b[0m\u001b[0;34m)\u001b[0m\u001b[0;34m,\u001b[0m\u001b[0;34m\u001b[0m\u001b[0;34m\u001b[0m\u001b[0m\n\u001b[1;32m    228\u001b[0m             \u001b[0mstorage_options\u001b[0m\u001b[0;34m=\u001b[0m\u001b[0mkwds\u001b[0m\u001b[0;34m.\u001b[0m\u001b[0mget\u001b[0m\u001b[0;34m(\u001b[0m\u001b[0;34m\"storage_options\"\u001b[0m\u001b[0;34m,\u001b[0m \u001b[0;32mNone\u001b[0m\u001b[0;34m)\u001b[0m\u001b[0;34m,\u001b[0m\u001b[0;34m\u001b[0m\u001b[0;34m\u001b[0m\u001b[0m\n\u001b[0;32m--> 229\u001b[0;31m             \u001b[0merrors\u001b[0m\u001b[0;34m=\u001b[0m\u001b[0mkwds\u001b[0m\u001b[0;34m.\u001b[0m\u001b[0mget\u001b[0m\u001b[0;34m(\u001b[0m\u001b[0;34m\"encoding_errors\"\u001b[0m\u001b[0;34m,\u001b[0m \u001b[0;34m\"strict\"\u001b[0m\u001b[0;34m)\u001b[0m\u001b[0;34m,\u001b[0m\u001b[0;34m\u001b[0m\u001b[0;34m\u001b[0m\u001b[0m\n\u001b[0m\u001b[1;32m    230\u001b[0m         )\n\u001b[1;32m    231\u001b[0m \u001b[0;34m\u001b[0m\u001b[0m\n",
            "\u001b[0;32m/usr/local/lib/python3.7/dist-packages/pandas/io/common.py\u001b[0m in \u001b[0;36mget_handle\u001b[0;34m(path_or_buf, mode, encoding, compression, memory_map, is_text, errors, storage_options)\u001b[0m\n\u001b[1;32m    705\u001b[0m                 \u001b[0mencoding\u001b[0m\u001b[0;34m=\u001b[0m\u001b[0mioargs\u001b[0m\u001b[0;34m.\u001b[0m\u001b[0mencoding\u001b[0m\u001b[0;34m,\u001b[0m\u001b[0;34m\u001b[0m\u001b[0;34m\u001b[0m\u001b[0m\n\u001b[1;32m    706\u001b[0m                 \u001b[0merrors\u001b[0m\u001b[0;34m=\u001b[0m\u001b[0merrors\u001b[0m\u001b[0;34m,\u001b[0m\u001b[0;34m\u001b[0m\u001b[0;34m\u001b[0m\u001b[0m\n\u001b[0;32m--> 707\u001b[0;31m                 \u001b[0mnewline\u001b[0m\u001b[0;34m=\u001b[0m\u001b[0;34m\"\"\u001b[0m\u001b[0;34m,\u001b[0m\u001b[0;34m\u001b[0m\u001b[0;34m\u001b[0m\u001b[0m\n\u001b[0m\u001b[1;32m    708\u001b[0m             )\n\u001b[1;32m    709\u001b[0m         \u001b[0;32melse\u001b[0m\u001b[0;34m:\u001b[0m\u001b[0;34m\u001b[0m\u001b[0;34m\u001b[0m\u001b[0m\n",
            "\u001b[0;31mFileNotFoundError\u001b[0m: [Errno 2] No such file or directory: '/content/gdrive/MyDrive/Colab Datasets/cannabis.csv'"
          ]
        }
      ]
    },
    {
      "cell_type": "markdown",
      "source": [
        "Let's explore the data further before diving into analysis."
      ],
      "metadata": {
        "id": "rlZacaVG-z1J"
      }
    },
    {
      "cell_type": "code",
      "source": [
        "# Peer into the data using .info() function\n",
        "df.info()"
      ],
      "metadata": {
        "id": "XrEwuZs7TU1A"
      },
      "execution_count": null,
      "outputs": []
    },
    {
      "cell_type": "markdown",
      "source": [
        "We have now discovered null values within the data. For this analysis we will only be using complete records so we must remove these nulls."
      ],
      "metadata": {
        "id": "zFCQcn4n_WbE"
      }
    },
    {
      "cell_type": "code",
      "source": [
        "# Use .dropna() function to drop all null values from the dataframe and contain\n",
        "# this within a new variable called \"df_filtered\"\n",
        "df_filtered = df.dropna()"
      ],
      "metadata": {
        "id": "i4rFrgbcdtSZ"
      },
      "execution_count": null,
      "outputs": []
    },
    {
      "cell_type": "markdown",
      "source": [
        "Let's confirm that our data is clean by verifying all columns have the same amount of records."
      ],
      "metadata": {
        "id": "EHTWH7iiAMlK"
      }
    },
    {
      "cell_type": "code",
      "source": [
        "# Use the .info() function on the newly created \"df_filtered\" variable\n",
        "df_filtered.info()"
      ],
      "metadata": {
        "id": "sL1QnksXeJLK"
      },
      "execution_count": null,
      "outputs": []
    },
    {
      "cell_type": "markdown",
      "source": [
        "Now we only have complete rows of records within our data. An additional level of purity is to purge the ratings with a value of 0."
      ],
      "metadata": {
        "id": "kxtfRh2UKNhE"
      }
    },
    {
      "cell_type": "code",
      "source": [
        "# Filter out records that have 0 value and contain within \"above_0\" variable\n",
        "# Locate values using .iloc[variable.values] and contain within \"df_clean\" \n",
        "# variable\n",
        "above_0 = df_filtered['rating'] > 0\n",
        "df_clean = df_filtered.iloc[above_0.values]"
      ],
      "metadata": {
        "id": "a2EapyFcEKDC"
      },
      "execution_count": null,
      "outputs": []
    },
    {
      "cell_type": "markdown",
      "source": [
        "We now have cleaned our data thoroughly to the point where we have 2211 rows of complete records. Let's seperate this data into three additional dataframes. One for each type: \"Hybrid\", \"Indica\", and \"Sativa\"."
      ],
      "metadata": {
        "id": "zECHI3doLPra"
      }
    },
    {
      "cell_type": "code",
      "source": [
        "# Create filter variables for each type using \"df_clean\" and similar method from\n",
        "# previous coding cell\n",
        "# Contain newly filtered dataframes within variables named after each type\n",
        "hybrid_filter = df_clean['type'] == 'hybrid'\n",
        "indica_filter = df_clean['type'] == 'indica'\n",
        "sativa_filter = df_clean['type'] == 'sativa'\n",
        "\n",
        "hybrid = df_clean.iloc[hybrid_filter.values]\n",
        "indica = df_clean.iloc[indica_filter.values]\n",
        "sativa = df_clean.iloc[sativa_filter.values]"
      ],
      "metadata": {
        "id": "rpXxbhwJP0E8"
      },
      "execution_count": null,
      "outputs": []
    },
    {
      "cell_type": "markdown",
      "source": [
        "Finally, we have everything in place to begin testing our hypotheses starting with:\n",
        "\n",
        "##**Hypothesis #1**\n",
        "\n",
        "**Hypothesis:** There is a correlation between the type of strains and their ratings. Meaning the ratings of hybrid, sativa, and indica type strains are distributed similarly.\n",
        "\n",
        "Since we have two string fields and one numeric field we will assess this correlation visually.\n",
        "\n",
        "Let's start with a scatterplot containing the distribution of all types seperated by color.\n"
      ],
      "metadata": {
        "id": "lR5z6GlE_dgc"
      }
    },
    {
      "cell_type": "code",
      "source": [
        "# Set a figure size and create scatterplot with custom attributes\n",
        "plt.figure(figsize = (10,5))\n",
        "a1 = sns.scatterplot(x=\"rating\", y=\"strain\", hue=\"type\", x_bins=1, \n",
        "                     data=df_clean)\n",
        "a1.set(yticklabels=[])\n",
        "a1.set(title='Type Ratings (All Types, Scatterplot)')\n",
        "a1.set(xlabel='Rating')\n",
        "a1.set(ylabel='Strain')\n",
        "plt.xlim(0, 5.5)\n",
        "plt.show()"
      ],
      "metadata": {
        "id": "L-g_LeoYMK8x"
      },
      "execution_count": null,
      "outputs": []
    },
    {
      "cell_type": "markdown",
      "source": [
        "This gives us insight as to where the majority of ratings lie within all types. We can quicky see ratings are typically 3 and above with a strong concentration between 4 and 5. How similar is this distribution when the types are not overlapped? Let's seperate the types in their own graphs."
      ],
      "metadata": {
        "id": "lF6mdZoIdoho"
      }
    },
    {
      "cell_type": "code",
      "source": [
        "# Set a figure size and create scatterplots with custom attributes\n",
        "plt.figure(figsize=(10,5))\n",
        "hy1 = sns.scatterplot(x=\"rating\", y=\"strain\", hue=\"type\", legend=False, \n",
        "                      data=hybrid, palette=['blue'])\n",
        "hy1.set(yticklabels=[])\n",
        "hy1.set(title='Hybrid Ratings (Scatterplot')\n",
        "hy1.set(xlabel='Rating')\n",
        "hy1.set(ylabel='Strain')\n",
        "plt.xlim(0, 5.1)\n",
        "plt.show()\n",
        "\n",
        "plt.figure(figsize=(10,5))\n",
        "ind1 = sns.scatterplot(x=\"rating\", y=\"strain\", hue=\"type\", legend=False,\n",
        "                       data=sativa, palette=['darkorange'])\n",
        "ind1.set(yticklabels=[])\n",
        "ind1.set(title='Sativa Ratings (Scatterplot)')\n",
        "ind1.set(xlabel='Rating')\n",
        "ind1.set(ylabel='Strain')\n",
        "plt.xlim(0, 5.1)\n",
        "plt.show()\n",
        "\n",
        "plt.figure(figsize=(10,5))\n",
        "sa1 = sns.scatterplot(x=\"rating\", y=\"strain\", hue=\"type\", legend=False,\n",
        "                      data=indica, palette=['green'])\n",
        "sa1.set(yticklabels=[])\n",
        "sa1.set(title='Indica Ratings (Scatterplot)')\n",
        "sa1.set(xlabel='Rating')\n",
        "sa1.set(ylabel='Strain')\n",
        "plt.xlim(0, 5.1)\n",
        "plt.show()"
      ],
      "metadata": {
        "id": "DmZp6jZoRRV0"
      },
      "execution_count": null,
      "outputs": []
    },
    {
      "cell_type": "markdown",
      "source": [
        "These visuals can tell us that the distribution between types in regards to ratings are similar. From a glance we can see that rarely any strains of any type are rated below 4 and regardless of the type the majorify of ratings fall between 4 and 5. \n",
        "\n",
        "This supports the hypothesis that a correlation exists, however, before we finalize a summary we can add another layer of analysis by viewing our data in histograms."
      ],
      "metadata": {
        "id": "8_6oPgL6fYMn"
      }
    },
    {
      "cell_type": "code",
      "source": [
        "# Set a figure size and create histogram with custom attributes\n",
        "plt.figure(figsize=(10, 5))\n",
        "a2 = sns.histplot(data=df_clean, x=\"rating\", hue=\"type\", kde=True)\n",
        "a2.set(title='Type Ratings (All Types, Histogram)')\n",
        "a2.set(xlabel='Rating')\n",
        "a2.set(ylabel='Strain')\n",
        "plt.xlim(0, 5.1)\n",
        "plt.ylim(0, 160)\n",
        "plt.show()"
      ],
      "metadata": {
        "id": "jiIWgiYrRdGI"
      },
      "execution_count": null,
      "outputs": []
    },
    {
      "cell_type": "markdown",
      "source": [
        "By analyzing this histogram we can see that the counts of strains differ yet the kernal density estimate of each type is very similar. As we did before to gain further insight we can seperate these types into their own graphs."
      ],
      "metadata": {
        "id": "l2Dy9Ke2i-Dq"
      }
    },
    {
      "cell_type": "code",
      "source": [
        "# Set a figure size and create histograms with custom attributes\n",
        "plt.figure(figsize=(10, 5))\n",
        "hy2 = sns.histplot(data=hybrid, x=\"rating\", kde=True, legend=False, \n",
        "                   color='blue')\n",
        "hy2.set(title='Hybrid Ratings (Histogram)')\n",
        "hy2.set(xlabel='Rating')\n",
        "hy2.set(ylabel='Strain Count')\n",
        "plt.xlim(0, 5.1)\n",
        "plt.ylim(0, 160)\n",
        "plt.show()\n",
        "\n",
        "plt.figure(figsize=(10, 5))\n",
        "sa2 = sns.histplot(data=sativa, x=\"rating\", kde=True, legend=False, \n",
        "                   color='darkorange' )\n",
        "sa2.set(title='Sativa Ratings (Histogram)')\n",
        "sa2.set(xlabel='Rating')\n",
        "sa2.set(ylabel='Strain Count')\n",
        "plt.xlim(0, 5.1)\n",
        "plt.ylim(0, 160)\n",
        "plt.show()\n",
        "\n",
        "plt.figure(figsize=(10, 5))\n",
        "ind2 = sns.histplot(data=indica, x=\"rating\", kde=True, legend=False, \n",
        "                    color=\"green\")\n",
        "ind2.set(title='Indica Ratings (Histogram)')\n",
        "ind2.set(xlabel='Rating')\n",
        "ind2.set(ylabel='Strain Count')\n",
        "plt.xlim(0, 5.1)\n",
        "plt.ylim(0, 160)\n",
        "plt.show()"
      ],
      "metadata": {
        "id": "6Qt5g_U1NJjt"
      },
      "execution_count": null,
      "outputs": []
    },
    {
      "cell_type": "markdown",
      "source": [
        "Now we can see that although the counts of strains differ the distributions of ratings are similar.\n",
        "\n",
        "##**Summary of findings for hypothesis #1:**\n",
        "\n",
        "The scatter plots show a strong correlation for ratings across all three types. The histogram graphs show strong correlations as well through kernal density and similar distribution. This means that ratings are similar amongst all types. **Hypothesis supported.**\n",
        "\n"
      ],
      "metadata": {
        "id": "YkHVHw2llWQ7"
      }
    },
    {
      "cell_type": "markdown",
      "source": [
        "##**Hypothesis #2**\n",
        "\n",
        "**Hypothesis:** There is a statistically significant difference between ratings depending on the type of the strain."
      ],
      "metadata": {
        "id": "tbXrLkjbnkoH"
      }
    },
    {
      "cell_type": "markdown",
      "source": [
        "To start we can view descriptive statistics about the ratings of types. Let's build a function to achieve this."
      ],
      "metadata": {
        "id": "OOX-3jAZoIjk"
      }
    },
    {
      "cell_type": "code",
      "source": [
        "# Define function to display descriptive statistics\n",
        "def statistics(column):\n",
        "  print('The max value in the column: {}'.format(column.max()))\n",
        "  print('The min value in the column: {}'.format(column.min()))\n",
        "  print('The mode value in the column: {}'.format(column.mode()))\n",
        "  print('The median value in the column: {}'.format(column.median()))\n",
        "  print('The mean value in the column: {}'.format(column.mean()))\n",
        "  print('The std of the column: {}'.format(column.std()))"
      ],
      "metadata": {
        "id": "sdQJCbbuQYvc"
      },
      "execution_count": null,
      "outputs": []
    },
    {
      "cell_type": "markdown",
      "source": [
        "Now we can run descriptive statistics on each one of our types."
      ],
      "metadata": {
        "id": "Wkq6XSTfSFNd"
      }
    },
    {
      "cell_type": "code",
      "source": [
        "# Use function with hybrid ratings\n",
        "statistics(hybrid['rating'])"
      ],
      "metadata": {
        "id": "vJk9Fx2iRwEg"
      },
      "execution_count": null,
      "outputs": []
    },
    {
      "cell_type": "code",
      "source": [
        "# Use function with sativa ratings\n",
        "statistics(sativa['rating'])"
      ],
      "metadata": {
        "id": "CwNV8C7gSVsP"
      },
      "execution_count": null,
      "outputs": []
    },
    {
      "cell_type": "code",
      "source": [
        "# Use function with indica ratings\n",
        "statistics(indica['rating'])"
      ],
      "metadata": {
        "id": "3amyWYvZSZDm"
      },
      "execution_count": null,
      "outputs": []
    },
    {
      "cell_type": "code",
      "source": [
        "# Group by type and show the average ratings\n",
        "df_clean.groupby('type').mean()['rating']"
      ],
      "metadata": {
        "id": "8BdBXRSO0-qr"
      },
      "execution_count": null,
      "outputs": []
    },
    {
      "cell_type": "markdown",
      "source": [
        "This gives us some preliminary insight, specifically we wanted the means as this will be the center focus of our t-tests."
      ],
      "metadata": {
        "id": "_JZTkOZuWfLi"
      }
    },
    {
      "cell_type": "markdown",
      "source": [
        "Now we can begin our two tail t-tests on the ratings of hybrid & sativa, hybrid & indica, and sativa & indica types.\n",
        "\n",
        "We can start with hybrid & sativa:"
      ],
      "metadata": {
        "id": "vsIXUzqSWwvD"
      }
    },
    {
      "cell_type": "code",
      "source": [
        "# Perform t-test on hybrid and sativa ratings\n",
        "stats.ttest_ind(hybrid['rating'], sativa['rating'])"
      ],
      "metadata": {
        "id": "XmV5y2c8kc0R"
      },
      "execution_count": null,
      "outputs": []
    },
    {
      "cell_type": "markdown",
      "source": [
        "Next we can store components of our confidence interval within variables."
      ],
      "metadata": {
        "id": "PeyzyoiOcF_b"
      }
    },
    {
      "cell_type": "code",
      "source": [
        "# Set components for test 1\n",
        "t1s1_n = hybrid.shape[0]\n",
        "t1s2_n = sativa.shape[0]\n",
        "t1s1_mean = hybrid['rating'].mean()\n",
        "t1s2_mean = sativa['rating'].mean()\n",
        "t1s1_var = hybrid['rating'].var()\n",
        "t1s2_var = sativa['rating'].var()"
      ],
      "metadata": {
        "id": "te0twgGArKXA"
      },
      "execution_count": null,
      "outputs": []
    },
    {
      "cell_type": "markdown",
      "source": [
        "Finally we are ready to establish a confidence interval and produce a more informative result."
      ],
      "metadata": {
        "id": "VE3Bc9V-dJVj"
      }
    },
    {
      "cell_type": "code",
      "source": [
        "# Create standard error of difference, mean difference, margin of error, and\n",
        "# confidence interval(lower,upper) variables\n",
        "# Print full result of t-test\n",
        "std_err_difference = math.sqrt((t1s1_var/t1s1_n)+(t1s2_var/t1s2_n))\n",
        "\n",
        "mean_difference = t1s2_mean - t1s1_mean\n",
        "\n",
        "margin_of_error = 1.96 * std_err_difference\n",
        "ci_lower = mean_difference - margin_of_error\n",
        "ci_upper = mean_difference + margin_of_error\n",
        "\n",
        "print(\"The difference in means at the 95% confidence interval is between \"\n",
        "+str(ci_lower)+\" and \"+str(ci_upper)+\".\")"
      ],
      "metadata": {
        "id": "NefPdY93s3cq"
      },
      "execution_count": null,
      "outputs": []
    },
    {
      "cell_type": "markdown",
      "source": [
        "With a pvalue of 0.4 > .05 we can fail to reject the null. There is no statisically significant difference between the means of hybrid and sativa ratings. The 95% confidence interval is between -.05 and .02 which is negligible. This test supports the null hypothesis."
      ],
      "metadata": {
        "id": "U3_bXrwiiBFt"
      }
    },
    {
      "cell_type": "markdown",
      "source": [
        "To continue we will take similar steps to test hybrid & indica:\n",
        "\n"
      ],
      "metadata": {
        "id": "8wFmVmH5jJT1"
      }
    },
    {
      "cell_type": "code",
      "source": [
        "# Perform t-test on hybrid and indica ratings\n",
        "stats.ttest_ind(hybrid['rating'], indica['rating'])"
      ],
      "metadata": {
        "id": "PxEgp7RmY5rf"
      },
      "execution_count": null,
      "outputs": []
    },
    {
      "cell_type": "code",
      "source": [
        "# Set components for test 2\n",
        "t2s1_n = hybrid.shape[0]\n",
        "t2s2_n = indica.shape[0]\n",
        "t2s1_mean = hybrid['rating'].mean()\n",
        "t2s2_mean = indica['rating'].mean()\n",
        "t2s1_var = hybrid['rating'].var()\n",
        "t2s2_var = indica['rating'].var()"
      ],
      "metadata": {
        "id": "vh1bhx5ssCsv"
      },
      "execution_count": null,
      "outputs": []
    },
    {
      "cell_type": "code",
      "source": [
        "# Create standard error of difference, mean difference, margin of error, and\n",
        "# confidence interval(lower,upper) variables\n",
        "# Print full result of t-test\n",
        "std_err_difference = math.sqrt((t2s1_var/t2s1_n)+(t2s2_var/t2s2_n))\n",
        "\n",
        "mean_difference = t2s2_mean - t2s1_mean\n",
        "\n",
        "margin_of_error = 1.96 * std_err_difference\n",
        "ci_lower = mean_difference - margin_of_error\n",
        "ci_upper = mean_difference + margin_of_error\n",
        "\n",
        "print(\"The difference in means at the 95% confidence interval is between \"\n",
        "+str(ci_lower)+\" and \"+str(ci_upper)+\".\")"
      ],
      "metadata": {
        "id": "hXV4UiuIwGk6"
      },
      "execution_count": null,
      "outputs": []
    },
    {
      "cell_type": "markdown",
      "source": [
        "With a pvalue of .86 > .05 we can fail to reject the null. There is no statistically significant difference between the means of hybrid and indica ratings. The 95% confidence interval is between -.03 and .03 which is negligible. This test supports the null hypothesis."
      ],
      "metadata": {
        "id": "4pQncdGgkFeu"
      }
    },
    {
      "cell_type": "markdown",
      "source": [
        "Lastly we will repeat to test sativa & indica:"
      ],
      "metadata": {
        "id": "JxokZV9ek9fA"
      }
    },
    {
      "cell_type": "code",
      "source": [
        "# Perform t-test on sativa and indica ratings\n",
        "stats.ttest_ind(sativa['rating'], indica['rating'])"
      ],
      "metadata": {
        "id": "B_zGAKL4q9yy"
      },
      "execution_count": null,
      "outputs": []
    },
    {
      "cell_type": "code",
      "source": [
        "# Set components for test 3\n",
        "t3s1_n = sativa.shape[0]\n",
        "t3s2_n = indica.shape[0]\n",
        "t3s1_mean = sativa['rating'].mean()\n",
        "t3s2_mean = indica['rating'].mean()\n",
        "t3s1_var = sativa['rating'].var()\n",
        "t3s2_var = indica['rating'].var()"
      ],
      "metadata": {
        "id": "FeiQUOg9sQzG"
      },
      "execution_count": null,
      "outputs": []
    },
    {
      "cell_type": "code",
      "source": [
        "# Create standard error of difference, mean difference, margin of error, and\n",
        "# confidence interval(lower,upper) variables\n",
        "# Print full result of t-test\n",
        "std_err_difference = math.sqrt((t3s1_var/t3s1_n)+(t3s2_var/t3s2_n))\n",
        "\n",
        "mean_difference = t3s2_mean - t3s1_mean\n",
        "\n",
        "margin_of_error = 1.96 * std_err_difference\n",
        "ci_lower = mean_difference - margin_of_error\n",
        "ci_upper = mean_difference + margin_of_error\n",
        "\n",
        "print(\"The difference in means at the 95% confidence interval is between \"\n",
        "+str(ci_lower)+\" and \"+str(ci_upper)+\".\")"
      ],
      "metadata": {
        "id": "6G1UPQC4xkxT"
      },
      "execution_count": null,
      "outputs": []
    },
    {
      "cell_type": "markdown",
      "source": [
        "With a pvalue of .41 > .05 we can fail to reject the null. There is no statistically significant difference between the means of sativa and indica ratings. The 95% confidence interval is between -.02 and .05 which is negligible. This test supports the null hypothesis."
      ],
      "metadata": {
        "id": "iR4XqsmglM3T"
      }
    },
    {
      "cell_type": "markdown",
      "source": [
        "Before finalizing a summary it is good practice to verify the accuracy of the analysis. To do this we will create a function to define a confidence interval and check that the results match the previous tests."
      ],
      "metadata": {
        "id": "-47XBBu7nouu"
      }
    },
    {
      "cell_type": "code",
      "source": [
        "# Define function to display confidence interval\n",
        "def get_95_ci(array1, array2):\n",
        "  sample1_n = array1.shape[0]\n",
        "  sample2_n = array2.shape[0]\n",
        "  sample1_mean = array1.mean()\n",
        "  sample2_mean = array2.mean()\n",
        "  sample1_var = array1.var()\n",
        "  sample2_var = array2.var()\n",
        "  mean_difference = sample2_mean - sample1_mean\n",
        "  std_err_difference = math.sqrt((sample1_var/sample1_n)+(sample2_var/sample2_n))\n",
        "  margin_of_error = 1.96 * std_err_difference\n",
        "  ci_lower = mean_difference - margin_of_error\n",
        "  ci_upper = mean_difference + margin_of_error\n",
        "  return(\"The difference in means at the 95% confidence interval is between \"\n",
        "  +str(ci_lower)+\" and \"+str(ci_upper)+\".\")"
      ],
      "metadata": {
        "id": "o8S3cpU5zWsM"
      },
      "execution_count": null,
      "outputs": []
    },
    {
      "cell_type": "markdown",
      "source": [
        "We can now call the function with each of our previously paired tested arrays."
      ],
      "metadata": {
        "id": "wlbi_6w1oUe4"
      }
    },
    {
      "cell_type": "code",
      "source": [
        "get_95_ci(hybrid['rating'], sativa['rating'])"
      ],
      "metadata": {
        "id": "BNFLolq00okg"
      },
      "execution_count": null,
      "outputs": []
    },
    {
      "cell_type": "code",
      "source": [
        "get_95_ci(hybrid['rating'], indica['rating'])"
      ],
      "metadata": {
        "id": "TXqdfGkh3RnH"
      },
      "execution_count": null,
      "outputs": []
    },
    {
      "cell_type": "code",
      "source": [
        "get_95_ci(sativa['rating'], indica['rating'])"
      ],
      "metadata": {
        "id": "uDNQk7We3Xlt"
      },
      "execution_count": null,
      "outputs": []
    },
    {
      "cell_type": "markdown",
      "source": [
        "With our test results verified we conclude our analysis."
      ],
      "metadata": {
        "id": "eY6M42Xcoyku"
      }
    },
    {
      "cell_type": "markdown",
      "source": [
        "###**Summary of findings for hypothesis #2:**\n",
        "\n",
        "The t-tests all conclude that there is no significant difference between ratings of hybrid, sativa, and indica types. Based on the large pvalues there is evidence to support the null present within each test. **Hypothesis rejected.**"
      ],
      "metadata": {
        "id": "MYPv7zfopBsz"
      }
    },
    {
      "cell_type": "markdown",
      "source": [
        "##**Recommendations:**\n",
        "\n",
        "Analysis into the first hypothesis has revealed that a correlation between the types of strains exists. This relation gives us insight into the distribution of ratings which is similar across all types. We also extracted insight into the volume of each type based on their ratings. This information is useful to know as it demonstrates the appreciation dispersed amongst all the types. It would be advised to increase the volume of sativa and indica types considering they rate similary and their volumes are lower than that of hybrids. \n",
        "\n",
        "Analysis into the second hypothesis has revealed that a significant difference between the types of strains does not exist. This gives us insight into how evenly the types are rated. Considering how close these ratings are it is evident that all types have a viable market. A healthy balance of each type is recommended to maintain based on the analysis of the second hypothesis."
      ],
      "metadata": {
        "id": "ps9VqXjDrtsr"
      }
    },
    {
      "cell_type": "markdown",
      "source": [
        "**Source: kaggle.com/datasets/nvisagan/cannabis-strains-features**\n",
        "\n",
        "**Notebook created by: Ahmad Zahid Sharif**"
      ],
      "metadata": {
        "id": "UQ2IpBQ0x1Ol"
      }
    }
  ]
}